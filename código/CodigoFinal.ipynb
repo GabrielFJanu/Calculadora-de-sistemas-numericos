{
  "cells": [
    {
      "cell_type": "markdown",
      "metadata": {
        "id": "s5Z2hJnlIBGn"
      },
      "source": [
        "# Código FINAL"
      ]
    },
    {
      "cell_type": "code",
      "execution_count": null,
      "metadata": {
        "colab": {
          "base_uri": "https://localhost:8080/"
        },
        "id": "SuLBow9NIMV3",
        "outputId": "8dbba989-4e09-44e9-e96c-3fd2fdcd904b"
      },
      "outputs": [
        {
          "name": "stdout",
          "output_type": "stream",
          "text": [
            "Digite o número da operação você deseja realizar:\n",
            "[1] Somar\n",
            "[2] Multiplicar\n",
            "[3] Converter base\n",
            "2\n",
            "\n",
            "número real positivo 1: 12A.F\n",
            "Sua base: 16\n",
            "\n",
            "número real positivo 2: 1221.01\n",
            "Sua base: 3\n",
            "\n",
            "base de saída (base do resultado): 10\n",
            "\n",
            "Precisão de casas decimais (máx: 16): 4\n",
            "\n",
            "\n",
            "A multiplicação de 12A.F(16) e de 1221.01(3) é **** 15577.9617(10) ****\n"
          ]
        }
      ],
      "source": [
        "res = input(\"Digite o número da operação você deseja realizar:\\n[1] Somar\\n[2] Multiplicar\\n[3] Converter base\\n\")\n",
        "if res ==\"1\":\n",
        "  flag = True\n",
        "  while flag:\n",
        "    flag = False\n",
        "    x = input(\"\\nnúmero real positivo 1: \")\n",
        "    bx = int(input(\"Sua base: \"))\n",
        "    if not verificar_valido(x,bx) or bx>36 or bx<2:\n",
        "      print(\"\\n*número inválido ou incompatível com a base*\\n\")\n",
        "      flag = True\n",
        "  flag = True\n",
        "  while flag:\n",
        "    flag = False\n",
        "    y = input(\"\\nnúmero real positivo 2: \")\n",
        "    by = int(input(\"Sua base: \"))\n",
        "    if not verificar_valido(y,by) or by>36 or by<2:\n",
        "      print(\"\\n*número inválido ou incompatível com a base*\\n\")\n",
        "      flag = True\n",
        "  flag = True\n",
        "  while flag:\n",
        "    flag = False\n",
        "    bf = int(input(\"\\nbase de saída (base do resultado): \"))\n",
        "    if bf>36 or bf<2:\n",
        "      print(\"\\n*base incompatível*\\n\")\n",
        "      flag = True\n",
        "  flag = True\n",
        "  while flag:\n",
        "    flag = False\n",
        "    casas_calculadas = int(input(\"\\nPrecisão de casas decimais (máx: 16): \"))\n",
        "    if casas_calculadas<0 or casas_calculadas>16:\n",
        "      print(\"\\n*número inválido*\\n\")\n",
        "      flag = True\n",
        "  print(f\"\\n\\nA soma de {x}({bx}) e de {y}({by}) é **** {somar_diferentes_bases(x,bx,y,by,bf,casas_calculadas)}({bf}) ****\")\n",
        "elif res ==\"2\":\n",
        "  flag = True\n",
        "  while flag:\n",
        "    flag = False\n",
        "    x = input(\"\\nnúmero real positivo 1: \")\n",
        "    bx = int(input(\"Sua base: \"))\n",
        "    if not verificar_valido(x,bx) or bx>36 or bx<2:\n",
        "      print(\"\\n*número inválido ou incompatível com a base*\\n\")\n",
        "      flag = True\n",
        "  flag = True\n",
        "  while flag:\n",
        "    flag = False\n",
        "    y = input(\"\\nnúmero real positivo 2: \")\n",
        "    by = int(input(\"Sua base: \"))\n",
        "    if not verificar_valido(y,by) or by>36 or by<2:\n",
        "      print(\"\\n*número inválido ou incompatível com a base*\\n\")\n",
        "      flag = True\n",
        "  flag = True\n",
        "  while flag:\n",
        "    flag = False\n",
        "    bf = int(input(\"\\nbase de saída (base do resultado): \"))\n",
        "    if bf>36 or bf<2:\n",
        "      print(\"\\n*base incompatível*\\n\")\n",
        "      flag = True\n",
        "  flag = True\n",
        "  while flag:\n",
        "    flag = False\n",
        "    casas_calculadas = int(input(\"\\nPrecisão de casas decimais (máx: 16): \"))\n",
        "    if casas_calculadas<0 or casas_calculadas>16:\n",
        "      print(\"\\n*número inválido*\\n\")\n",
        "      flag = True\n",
        "  print(f\"\\n\\nA multiplicação de {x}({bx}) e de {y}({by}) é **** {multiplicar_diferentes_bases(x,bx,y,by,bf,casas_calculadas)}({bf}) ****\")\n",
        "elif res ==\"3\":\n",
        "  flag = True\n",
        "  while flag:\n",
        "    flag = False\n",
        "    x = input(\"\\nnúmero real positivo: \")\n",
        "    b1 = int(input(\"\\nSua base: \"))\n",
        "    if not verificar_valido(x,b1) or b1>36 or b1<2:\n",
        "      print(\"\\n*número inválido ou incompatível com a base*\\n\")\n",
        "      flag = True\n",
        "  flag = True\n",
        "  while flag:\n",
        "    flag = False\n",
        "    b2 = int(input(\"\\nBase de saída: \\n\"))\n",
        "    if b2>36 or b2<2:\n",
        "      print(\"\\n*base inválida*\\n\")\n",
        "      flag = True\n",
        "  flag = True\n",
        "  while flag:\n",
        "    flag = False\n",
        "    casas_calculadas = int(input(\"\\nPrecisão de casas decimais (máx: 16): \"))\n",
        "    if casas_calculadas<0 or casas_calculadas>16:\n",
        "      print(\"\\n*número inválido*\\n\")\n",
        "      flag = True\n",
        "  print(f\"\\n\\nA conversão de {x}({b1}) é **** {mudar_base(x,b1,b2,casas_calculadas)}({b2}) ****\")\n",
        "else:\n",
        "  print(\"\\n*Valor inválido*\\n\")"
      ]
    }
  ],
  "metadata": {
    "colab": {
      "provenance": [],
      "toc_visible": true
    },
    "kernelspec": {
      "display_name": "Python 3",
      "name": "python3"
    },
    "language_info": {
      "name": "python"
    }
  },
  "nbformat": 4,
  "nbformat_minor": 0
}
